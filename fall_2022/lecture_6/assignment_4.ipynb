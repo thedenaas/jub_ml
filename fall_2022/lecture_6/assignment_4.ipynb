{
 "cells": [
  {
   "cell_type": "markdown",
   "id": "d2b29fd2",
   "metadata": {},
   "source": [
    "# Assignment 4\n",
    "\n",
    "Apply classic NLP techniques for 20-news-groups dataset.  \n",
    "In each task don't forget to make validation of hyperparams.  "
   ]
  },
  {
   "cell_type": "code",
   "execution_count": 25,
   "id": "54427077",
   "metadata": {},
   "outputs": [],
   "source": [
    "from sklearn import datasets"
   ]
  },
  {
   "cell_type": "code",
   "execution_count": 2,
   "id": "e6d81596",
   "metadata": {},
   "outputs": [],
   "source": [
    "X_train, y_train = datasets.fetch_20newsgroups(subset='train', return_X_y=True)\n",
    "X_test, y_test = datasets.fetch_20newsgroups(subset='test', return_X_y=True)"
   ]
  },
  {
   "cell_type": "markdown",
   "id": "db99bf2d",
   "metadata": {},
   "source": [
    "## Task 1 (20 points)\n",
    "\n",
    "Plot document embeddings on the 2D plane using TSNE.  \n",
    "Use pretrained word2vec embeddings (e.g. https://wikipedia2vec.github.io/wikipedia2vec/pretrained/).  \n",
    "Use an average of word embeddings as a document embedding.  \n",
    "Use different colors for classes.  \n",
    "\n",
    "Also, plot the first 2 principal components of PCA.  \n",
    "Compare the resulted TSNE plot with the PCA.  "
   ]
  },
  {
   "cell_type": "markdown",
   "id": "2036d2b1",
   "metadata": {},
   "source": [
    "## Task 2 (20 points)\n",
    "\n",
    "Train a linear model for multi-class classification on tf-idf features.  \n",
    "Surpass baseline F1_macro = 0.83  \n",
    "Make validation for some tf-idf hyperparams.  "
   ]
  },
  {
   "cell_type": "markdown",
   "id": "9ab312ad",
   "metadata": {},
   "source": [
    "## Task 3 (20 points) \n",
    "Train Random Forest Model on document embeddings for multi-class classification.  \n",
    "Use pretrained word2vec embeddings (e.g. https://wikipedia2vec.github.io/wikipedia2vec/pretrained/).  \n",
    "Use an average of word embeddings as a document embedding.  \n",
    "Surpass baseline F1_macro = 0.84  "
   ]
  },
  {
   "cell_type": "markdown",
   "id": "3dd32883",
   "metadata": {},
   "source": [
    "## Task 4 (20 points)\n",
    "\n",
    "Implement Naive Bayes Classifier from scratch.  \n",
    "Surpass baseline F1_macro = 0.74"
   ]
  },
  {
   "cell_type": "markdown",
   "id": "85fc68bd",
   "metadata": {},
   "source": [
    "## Task 5 (20 points)\n",
    "\n",
    "Train your own Word2Vec model using `gensim` library.  \n",
    "Notice, that here you can make any text preprocesing you like.  \n",
    "Train Multilayer Perceptron Model for multi-class classification (pytorch pipeline) using these word2vec embeddings.\n",
    "Use an average of word embeddings as a document embedding.  \n",
    "Surpass baseline F1_macro = 0.83  \n",
    "Plot train and valid losses as function of the number of epochs.  "
   ]
  }
 ],
 "metadata": {
  "kernelspec": {
   "display_name": "Python 3 (ipykernel)",
   "language": "python",
   "name": "python3"
  },
  "language_info": {
   "codemirror_mode": {
    "name": "ipython",
    "version": 3
   },
   "file_extension": ".py",
   "mimetype": "text/x-python",
   "name": "python",
   "nbconvert_exporter": "python",
   "pygments_lexer": "ipython3",
   "version": "3.9.15"
  }
 },
 "nbformat": 4,
 "nbformat_minor": 5
}
