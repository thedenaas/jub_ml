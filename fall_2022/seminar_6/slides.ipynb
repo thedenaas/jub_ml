{
 "cells": [
  {
   "cell_type": "markdown",
   "id": "9a2fa10d",
   "metadata": {
    "slideshow": {
     "slide_type": "slide"
    }
   },
   "source": [
    "# Instance-based classification"
   ]
  },
  {
   "cell_type": "markdown",
   "id": "ab56aaa7",
   "metadata": {
    "slideshow": {
     "slide_type": "slide"
    }
   },
   "source": [
    "## Idea\n",
    "* Similar objects lie close in terms of distance in some ‘feature’ space\n",
    "* Distance to other data points is a key to predict a class. **We only need the distance**\n",
    "\n",
    "<img src='imgs/ibc1.png'/>"
   ]
  },
  {
   "cell_type": "markdown",
   "id": "b22a0df1",
   "metadata": {
    "slideshow": {
     "slide_type": "slide"
    }
   },
   "source": [
    "## Popular metrics\n",
    "\n",
    "* **Euclidian distance** - $\\rho(x, y) = \\sqrt{\\sum (x_i - y_i)^2}$\n",
    "* **Minkowski distance** - $\\rho(x, y) = \\left(\\sum |x_i - y_i|^p\\right)^{\\frac 1p}$\n",
    "* **Cosine distance** - $\\rho(x, y) = \\frac{\\sum x_i y_i}{|x||y|}$"
   ]
  },
  {
   "cell_type": "markdown",
   "id": "c1fe4447",
   "metadata": {
    "slideshow": {
     "slide_type": "slide"
    }
   },
   "source": [
    "## General approach\n",
    "\n",
    "* $h(x) = argmax_y \\sum\\limits_{y_i=y}w(x_i, x)$\n",
    "* $w(x_i, x)$ is a weight of object $x_i$ for object $x$\n",
    "* affinity of x to y - $\\Gamma_y(x) = \\sum\\limits_{y_i=y}w(x_i, x)$\n",
    "* No learning\n",
    "* Models vary by the choice of $w(x, y)$"
   ]
  },
  {
   "cell_type": "markdown",
   "id": "25668576",
   "metadata": {
    "slideshow": {
     "slide_type": "slide"
    }
   },
   "source": [
    "## k Nearest Neighbors (kNN)\n",
    "\n",
    "* kNN: $w(x, y)=1$ if $x$ is one of the k nearest neighbors of $y$\n",
    "\n",
    "<img src='imgs/ibc2.png'/>"
   ]
  },
  {
   "cell_type": "markdown",
   "id": "1c6c50d6",
   "metadata": {
    "slideshow": {
     "slide_type": "skip"
    }
   },
   "source": [
    "## No neighbors\n",
    "\n",
    "* majority class\n",
    "* depending on the task, minimizing some risk\n",
    "\n",
    "<img src='imgs/ibc3.png'/>"
   ]
  },
  {
   "cell_type": "markdown",
   "id": "0eea7fcb",
   "metadata": {
    "slideshow": {
     "slide_type": "slide"
    }
   },
   "source": [
    "## Bayesian view\n",
    "\n",
    "* $P(y|x) = \\frac{P(x|y)P(y)}{P(x)}$\n",
    "* estimating probability in a small area around $x$. $n$-size of dataset, $n'$ - number of points with label $y$,  $k$-size of the small area, $k'$ number of points in small area with label $y$\n",
    "* $P(x)\\sim \\frac kn$\n",
    "* $P(y)\\sim \\frac {n'}{n}$\n",
    "* $P(x|y)\\sim \\frac {k'}{n'}$\n",
    "* $P(y|x) = \\frac{\\frac {n'}n \\frac {k'}{n'}}{\\frac kn} = \\frac {k'}k $"
   ]
  },
  {
   "cell_type": "markdown",
   "id": "788e557c",
   "metadata": {
    "slideshow": {
     "slide_type": "slide"
    }
   },
   "source": [
    "## Other methods\n",
    "\n",
    "* **RadiusNeighbors** all neighbors in radius - $w(x, y)=1$ if $\\rho(x, y)<R$\n",
    "\n",
    "* **Weighted kNN** bigger weights to the nearest neighbors - $w(x, y)=max\\left(0, \\frac{r-\\rho(x, y)}{r}\\right)$\n",
    "\n",
    "* **Parzen window** use some kernel function \n",
    "    * constant window  $w(x, y)= K(\\frac{\\rho(x_i, x_i)}{r})$\n",
    "    * variable window  $w(x, y)= K(\\frac{\\rho(x, x_i)}{\\rho(x_{k+1}, y)})$, where $x_{k+1}$ - k+1 neighbor \n",
    "    \n"
   ]
  },
  {
   "cell_type": "markdown",
   "id": "a0502e72",
   "metadata": {
    "slideshow": {
     "slide_type": "slide"
    }
   },
   "source": [
    "<img src='imgs/ibc4.png'/>\n"
   ]
  },
  {
   "cell_type": "markdown",
   "id": "704dc234",
   "metadata": {
    "slideshow": {
     "slide_type": "slide"
    }
   },
   "source": [
    "* **Potential energy method** - $h(x) = argmax_y \\sum\\limits_{y_i=y}\\gamma_i w(x_i, x)$\n",
    "    * init $\\gamma_i=1$\n",
    "    * if $h(x_i)\\neq y_i \\rightarrow \\gamma_i=\\gamma_i+1$\n",
    "\n",
    "* **Prototype selection** - $h(x) = argmax_y \\sum\\limits_{x\\in \\Omega, y_i=y}\\gamma_i w(x_i, x)$\n",
    "    * Edition - points on the border\n",
    "    * Condensation - points inside the class\n",
    "    \n",
    "* DROP5 (decremental reduction optimization procedure)\n",
    "    * start with full dataset\n",
    "    * sort by affinity tp the closest incorrect class\n",
    "    * go in ascending order\n",
    "    * delete x if LOO doesn't increase"
   ]
  },
  {
   "cell_type": "markdown",
   "id": "e332af79",
   "metadata": {
    "slideshow": {
     "slide_type": "slide"
    }
   },
   "source": [
    "<img src='imgs/ibc5.png'/>"
   ]
  }
 ],
 "metadata": {
  "celltoolbar": "Slideshow",
  "kernelspec": {
   "display_name": "Python 3 (ipykernel)",
   "language": "python",
   "name": "python3"
  },
  "language_info": {
   "codemirror_mode": {
    "name": "ipython",
    "version": 3
   },
   "file_extension": ".py",
   "mimetype": "text/x-python",
   "name": "python",
   "nbconvert_exporter": "python",
   "pygments_lexer": "ipython3",
   "version": "3.7.10"
  }
 },
 "nbformat": 4,
 "nbformat_minor": 5
}
